{
 "cells": [
  {
   "cell_type": "code",
   "execution_count": 1,
   "metadata": {},
   "outputs": [],
   "source": [
    "from tensorflow.keras.applications import MobileNetV2\n",
    "from tensorflow.keras.layers import Dense, GlobalAveragePooling2D, Dropout\n",
    "from tensorflow.keras.models import Model\n",
    "from tensorflow.keras.preprocessing.image import ImageDataGenerator\n",
    "from sklearn.model_selection import train_test_split\n",
    "import tensorflow as tf\n",
    "import pandas as pd\n",
    "import numpy as np"
   ]
  },
  {
   "cell_type": "code",
   "execution_count": 2,
   "metadata": {},
   "outputs": [],
   "source": [
    "# Load the dataset\n",
    "df = pd.read_csv('whales/train.csv')\n",
    "image_ids = df['Image'].tolist()\n",
    "whale_ids = df['whaleID'].tolist()\n",
    "\n",
    "# Define image size and batch size\n",
    "IMG_SIZE = (128,128)\n",
    "\n",
    "\n",
    "# Define a function to preprocess images\n"
   ]
  },
  {
   "cell_type": "code",
   "execution_count": 3,
   "metadata": {},
   "outputs": [],
   "source": [
    "def preprocess_image(image_path):\n",
    "    image = tf.keras.preprocessing.image.load_img(image_path, target_size=IMG_SIZE)\n",
    "    image = tf.keras.preprocessing.image.img_to_array(image)\n",
    "    return image\n",
    "\n",
    "# Preprocess images\n",
    "X = np.array([preprocess_image(f\"whales/imgs_no_bg/{img_id}\") for img_id in image_ids])\n",
    "Y = np.array(whale_ids)"
   ]
  },
  {
   "cell_type": "code",
   "execution_count": 4,
   "metadata": {},
   "outputs": [],
   "source": [
    "# One-hot encode the labels\n",
    "from sklearn.preprocessing import LabelEncoder\n",
    "label_encoder = LabelEncoder()\n",
    "Y_encoded = label_encoder.fit_transform(Y)"
   ]
  },
  {
   "cell_type": "code",
   "execution_count": 5,
   "metadata": {},
   "outputs": [],
   "source": [
    "X_train, X_test, Y_train, Y_test = train_test_split(X, Y_encoded, test_size=0.2, random_state=42)\n",
    "\n",
    "# One-hot encode the labels for Keras\n",
    "Y_train_onehot = tf.keras.utils.to_categorical(Y_train, num_classes=len(np.unique(Y_encoded)))\n",
    "Y_test_onehot = tf.keras.utils.to_categorical(Y_test, num_classes=len(np.unique(Y_encoded)))\n",
    "# Y_train_onehot = Y_train\n",
    "# Y_test_onehot = Y_test\n"
   ]
  },
  {
   "cell_type": "code",
   "execution_count": 6,
   "metadata": {},
   "outputs": [],
   "source": [
    "# Load the pre-trained MobileNetV2 model, without the top layers\n",
    "base_model = MobileNetV2(weights='imagenet', include_top=False, input_shape=(128,128, 3))\n",
    "\n",
    "# Freeze the base model layers (optional)\n",
    "base_model.trainable = False\n",
    "\n",
    "# Add custom layers on top of the base model\n",
    "x = base_model.output\n",
    "x = GlobalAveragePooling2D()(x)  # Add a global spatial average pooling layer\n",
    "x = Dense(1024, activation='relu')(x)\n",
    "x=Dense(512, activation='relu')(x)\n",
    "x = Dropout(0.2)(x)\n",
    "x = Dense(256, activation='relu')(x)\n",
    "x=Dense(128, activation='relu')(x)\n",
    "x = Dropout(0.2)(x)\n",
    "predictions = Dense(len(np.unique(Y_encoded)), activation='softmax')(x)  # Final classification layer\n",
    "\n",
    "# Create the full model\n"
   ]
  },
  {
   "cell_type": "code",
   "execution_count": 7,
   "metadata": {},
   "outputs": [
    {
     "name": "stdout",
     "output_type": "stream",
     "text": [
      "Epoch 1/100\n",
      "2907/2907 [==============================] - 47s 12ms/step - loss: 6.0649 - accuracy: 0.0072 - val_loss: 6.0330 - val_accuracy: 0.0041\n",
      "Epoch 2/100\n",
      "2907/2907 [==============================] - 32s 11ms/step - loss: 5.9371 - accuracy: 0.0076 - val_loss: 6.0426 - val_accuracy: 0.0069\n",
      "Epoch 3/100\n",
      "2907/2907 [==============================] - 32s 11ms/step - loss: 5.9019 - accuracy: 0.0089 - val_loss: 6.1220 - val_accuracy: 0.0055\n",
      "Epoch 4/100\n",
      "2907/2907 [==============================] - 33s 11ms/step - loss: 5.8931 - accuracy: 0.0107 - val_loss: 6.1022 - val_accuracy: 0.0069\n",
      "Epoch 5/100\n",
      "2907/2907 [==============================] - 32s 11ms/step - loss: 5.8770 - accuracy: 0.0103 - val_loss: 6.1045 - val_accuracy: 0.0069\n",
      "Epoch 6/100\n",
      "2907/2907 [==============================] - 33s 11ms/step - loss: 5.8745 - accuracy: 0.0114 - val_loss: 6.1514 - val_accuracy: 0.0069\n",
      "Epoch 7/100\n",
      "2907/2907 [==============================] - 33s 12ms/step - loss: 5.8606 - accuracy: 0.0107 - val_loss: 6.1386 - val_accuracy: 0.0055\n",
      "Epoch 8/100\n",
      "2907/2907 [==============================] - 33s 11ms/step - loss: 5.8411 - accuracy: 0.0107 - val_loss: 6.1830 - val_accuracy: 0.0055\n",
      "Epoch 9/100\n",
      "2907/2907 [==============================] - 33s 11ms/step - loss: 5.8343 - accuracy: 0.0103 - val_loss: 6.1926 - val_accuracy: 0.0069\n",
      "Epoch 10/100\n",
      "2907/2907 [==============================] - 33s 11ms/step - loss: 5.8270 - accuracy: 0.0117 - val_loss: 6.2066 - val_accuracy: 0.0055\n",
      "Epoch 11/100\n",
      "2907/2907 [==============================] - 33s 11ms/step - loss: 5.8143 - accuracy: 0.0114 - val_loss: 6.2341 - val_accuracy: 0.0055\n",
      "Epoch 12/100\n",
      "2907/2907 [==============================] - 33s 11ms/step - loss: 5.8136 - accuracy: 0.0117 - val_loss: 6.3665 - val_accuracy: 0.0055\n",
      "Epoch 13/100\n",
      "2907/2907 [==============================] - 33s 11ms/step - loss: 5.8035 - accuracy: 0.0103 - val_loss: 6.2674 - val_accuracy: 0.0055\n",
      "Epoch 14/100\n",
      "2907/2907 [==============================] - 33s 11ms/step - loss: 5.7944 - accuracy: 0.0120 - val_loss: 6.2388 - val_accuracy: 0.0055\n",
      "Epoch 15/100\n",
      "2907/2907 [==============================] - 34s 12ms/step - loss: 5.7962 - accuracy: 0.0117 - val_loss: 6.2827 - val_accuracy: 0.0055\n",
      "Epoch 16/100\n",
      "2907/2907 [==============================] - 33s 11ms/step - loss: 5.7887 - accuracy: 0.0124 - val_loss: 6.3333 - val_accuracy: 0.0055\n",
      "Epoch 17/100\n",
      "2907/2907 [==============================] - 33s 11ms/step - loss: 5.7883 - accuracy: 0.0134 - val_loss: 6.5636 - val_accuracy: 0.0055\n",
      "Epoch 18/100\n",
      "2907/2907 [==============================] - 32s 11ms/step - loss: 5.7833 - accuracy: 0.0120 - val_loss: 6.4066 - val_accuracy: 0.0055\n",
      "Epoch 19/100\n",
      "2907/2907 [==============================] - 33s 12ms/step - loss: 5.7837 - accuracy: 0.0120 - val_loss: 6.4342 - val_accuracy: 0.0055\n",
      "Epoch 20/100\n",
      "2907/2907 [==============================] - 33s 11ms/step - loss: 5.7784 - accuracy: 0.0124 - val_loss: 6.3573 - val_accuracy: 0.0055\n",
      "Epoch 21/100\n",
      "2907/2907 [==============================] - 33s 11ms/step - loss: 5.7751 - accuracy: 0.0120 - val_loss: 6.2699 - val_accuracy: 0.0055\n",
      "Epoch 22/100\n",
      "2907/2907 [==============================] - 32s 11ms/step - loss: 5.7776 - accuracy: 0.0124 - val_loss: 6.4392 - val_accuracy: 0.0055\n",
      "Epoch 23/100\n",
      "2907/2907 [==============================] - 32s 11ms/step - loss: 5.7743 - accuracy: 0.0131 - val_loss: 6.3750 - val_accuracy: 0.0055\n",
      "Epoch 24/100\n",
      "2907/2907 [==============================] - 33s 11ms/step - loss: 5.7749 - accuracy: 0.0134 - val_loss: 6.4420 - val_accuracy: 0.0055\n",
      "Epoch 25/100\n",
      "2907/2907 [==============================] - 32s 11ms/step - loss: 5.7714 - accuracy: 0.0138 - val_loss: 6.3626 - val_accuracy: 0.0055\n",
      "Epoch 26/100\n",
      "2907/2907 [==============================] - 32s 11ms/step - loss: 5.7711 - accuracy: 0.0120 - val_loss: 6.3367 - val_accuracy: 0.0055\n",
      "Epoch 27/100\n",
      "2907/2907 [==============================] - 32s 11ms/step - loss: 5.7853 - accuracy: 0.0120 - val_loss: 6.4303 - val_accuracy: 0.0055\n",
      "Epoch 28/100\n",
      "2907/2907 [==============================] - 33s 11ms/step - loss: 5.7684 - accuracy: 0.0124 - val_loss: 6.5461 - val_accuracy: 0.0055\n",
      "Epoch 29/100\n",
      "2907/2907 [==============================] - 33s 11ms/step - loss: 5.7659 - accuracy: 0.0110 - val_loss: 6.3133 - val_accuracy: 0.0055\n",
      "Epoch 30/100\n",
      "2907/2907 [==============================] - 33s 11ms/step - loss: 5.7572 - accuracy: 0.0117 - val_loss: 6.3001 - val_accuracy: 0.0055\n",
      "Epoch 31/100\n",
      "2907/2907 [==============================] - 33s 11ms/step - loss: 5.7638 - accuracy: 0.0114 - val_loss: 6.3403 - val_accuracy: 0.0055\n",
      "Epoch 32/100\n",
      "2907/2907 [==============================] - 33s 11ms/step - loss: 5.7594 - accuracy: 0.0134 - val_loss: 6.4150 - val_accuracy: 0.0055\n",
      "Epoch 33/100\n",
      "2907/2907 [==============================] - 32s 11ms/step - loss: 5.7567 - accuracy: 0.0124 - val_loss: 6.3825 - val_accuracy: 0.0055\n",
      "Epoch 34/100\n",
      "2907/2907 [==============================] - 33s 11ms/step - loss: 5.7488 - accuracy: 0.0138 - val_loss: 6.3657 - val_accuracy: 0.0055\n",
      "Epoch 35/100\n",
      "2907/2907 [==============================] - 33s 11ms/step - loss: 5.7454 - accuracy: 0.0134 - val_loss: 6.4130 - val_accuracy: 0.0055\n",
      "Epoch 36/100\n",
      "2907/2907 [==============================] - 33s 11ms/step - loss: 5.7417 - accuracy: 0.0131 - val_loss: 6.4740 - val_accuracy: 0.0069\n",
      "Epoch 37/100\n",
      "2907/2907 [==============================] - 33s 11ms/step - loss: 5.7405 - accuracy: 0.0138 - val_loss: 6.4803 - val_accuracy: 0.0055\n",
      "Epoch 38/100\n",
      "2907/2907 [==============================] - 33s 11ms/step - loss: 5.7424 - accuracy: 0.0124 - val_loss: 6.3559 - val_accuracy: 0.0083\n",
      "Epoch 39/100\n",
      "2907/2907 [==============================] - 34s 12ms/step - loss: 5.7438 - accuracy: 0.0117 - val_loss: 6.3921 - val_accuracy: 0.0055\n",
      "Epoch 40/100\n",
      "1910/2907 [==================>...........] - ETA: 10s - loss: 5.7522 - accuracy: 0.0141"
     ]
    },
    {
     "ename": "KeyboardInterrupt",
     "evalue": "",
     "output_type": "error",
     "traceback": [
      "\u001b[1;31m---------------------------------------------------------------------------\u001b[0m",
      "\u001b[1;31mKeyboardInterrupt\u001b[0m                         Traceback (most recent call last)",
      "Cell \u001b[1;32mIn[7], line 8\u001b[0m\n\u001b[0;32m      6\u001b[0m \u001b[38;5;66;03m# Train the model\u001b[39;00m\n\u001b[0;32m      7\u001b[0m BATCH_SIZE \u001b[38;5;241m=\u001b[39m \u001b[38;5;241m1\u001b[39m\n\u001b[1;32m----> 8\u001b[0m history \u001b[38;5;241m=\u001b[39m \u001b[43mmodel\u001b[49m\u001b[38;5;241;43m.\u001b[39;49m\u001b[43mfit\u001b[49m\u001b[43m(\u001b[49m\u001b[43mX_train\u001b[49m\u001b[43m,\u001b[49m\u001b[43m \u001b[49m\u001b[43mY_train_onehot\u001b[49m\u001b[43m,\u001b[49m\u001b[43m \u001b[49m\u001b[43mvalidation_data\u001b[49m\u001b[38;5;241;43m=\u001b[39;49m\u001b[43m(\u001b[49m\u001b[43mX_test\u001b[49m\u001b[43m,\u001b[49m\u001b[43m \u001b[49m\u001b[43mY_test_onehot\u001b[49m\u001b[43m)\u001b[49m\u001b[43m,\u001b[49m\u001b[43m \u001b[49m\u001b[43mepochs\u001b[49m\u001b[38;5;241;43m=\u001b[39;49m\u001b[38;5;241;43m100\u001b[39;49m\u001b[43m,\u001b[49m\u001b[43m \u001b[49m\u001b[43mbatch_size\u001b[49m\u001b[38;5;241;43m=\u001b[39;49m\u001b[43mBATCH_SIZE\u001b[49m\u001b[43m)\u001b[49m\n\u001b[0;32m     10\u001b[0m \u001b[38;5;66;03m# Optionally, unfreeze some of the base layers and fine-tune the model\u001b[39;00m\n\u001b[0;32m     11\u001b[0m \u001b[38;5;66;03m# Unfreeze the base model layers\u001b[39;00m\n\u001b[0;32m     12\u001b[0m base_model\u001b[38;5;241m.\u001b[39mtrainable \u001b[38;5;241m=\u001b[39m \u001b[38;5;28;01mTrue\u001b[39;00m\n",
      "File \u001b[1;32mc:\\Users\\soham\\anaconda3\\envs\\py310\\lib\\site-packages\\keras\\utils\\traceback_utils.py:65\u001b[0m, in \u001b[0;36mfilter_traceback.<locals>.error_handler\u001b[1;34m(*args, **kwargs)\u001b[0m\n\u001b[0;32m     63\u001b[0m filtered_tb \u001b[38;5;241m=\u001b[39m \u001b[38;5;28;01mNone\u001b[39;00m\n\u001b[0;32m     64\u001b[0m \u001b[38;5;28;01mtry\u001b[39;00m:\n\u001b[1;32m---> 65\u001b[0m     \u001b[38;5;28;01mreturn\u001b[39;00m fn(\u001b[38;5;241m*\u001b[39margs, \u001b[38;5;241m*\u001b[39m\u001b[38;5;241m*\u001b[39mkwargs)\n\u001b[0;32m     66\u001b[0m \u001b[38;5;28;01mexcept\u001b[39;00m \u001b[38;5;167;01mException\u001b[39;00m \u001b[38;5;28;01mas\u001b[39;00m e:\n\u001b[0;32m     67\u001b[0m     filtered_tb \u001b[38;5;241m=\u001b[39m _process_traceback_frames(e\u001b[38;5;241m.\u001b[39m__traceback__)\n",
      "File \u001b[1;32mc:\\Users\\soham\\anaconda3\\envs\\py310\\lib\\site-packages\\keras\\engine\\training.py:1564\u001b[0m, in \u001b[0;36mModel.fit\u001b[1;34m(self, x, y, batch_size, epochs, verbose, callbacks, validation_split, validation_data, shuffle, class_weight, sample_weight, initial_epoch, steps_per_epoch, validation_steps, validation_batch_size, validation_freq, max_queue_size, workers, use_multiprocessing)\u001b[0m\n\u001b[0;32m   1556\u001b[0m \u001b[38;5;28;01mwith\u001b[39;00m tf\u001b[38;5;241m.\u001b[39mprofiler\u001b[38;5;241m.\u001b[39mexperimental\u001b[38;5;241m.\u001b[39mTrace(\n\u001b[0;32m   1557\u001b[0m     \u001b[38;5;124m\"\u001b[39m\u001b[38;5;124mtrain\u001b[39m\u001b[38;5;124m\"\u001b[39m,\n\u001b[0;32m   1558\u001b[0m     epoch_num\u001b[38;5;241m=\u001b[39mepoch,\n\u001b[1;32m   (...)\u001b[0m\n\u001b[0;32m   1561\u001b[0m     _r\u001b[38;5;241m=\u001b[39m\u001b[38;5;241m1\u001b[39m,\n\u001b[0;32m   1562\u001b[0m ):\n\u001b[0;32m   1563\u001b[0m     callbacks\u001b[38;5;241m.\u001b[39mon_train_batch_begin(step)\n\u001b[1;32m-> 1564\u001b[0m     tmp_logs \u001b[38;5;241m=\u001b[39m \u001b[38;5;28;43mself\u001b[39;49m\u001b[38;5;241;43m.\u001b[39;49m\u001b[43mtrain_function\u001b[49m\u001b[43m(\u001b[49m\u001b[43miterator\u001b[49m\u001b[43m)\u001b[49m\n\u001b[0;32m   1565\u001b[0m     \u001b[38;5;28;01mif\u001b[39;00m data_handler\u001b[38;5;241m.\u001b[39mshould_sync:\n\u001b[0;32m   1566\u001b[0m         context\u001b[38;5;241m.\u001b[39masync_wait()\n",
      "File \u001b[1;32mc:\\Users\\soham\\anaconda3\\envs\\py310\\lib\\site-packages\\tensorflow\\python\\util\\traceback_utils.py:150\u001b[0m, in \u001b[0;36mfilter_traceback.<locals>.error_handler\u001b[1;34m(*args, **kwargs)\u001b[0m\n\u001b[0;32m    148\u001b[0m filtered_tb \u001b[38;5;241m=\u001b[39m \u001b[38;5;28;01mNone\u001b[39;00m\n\u001b[0;32m    149\u001b[0m \u001b[38;5;28;01mtry\u001b[39;00m:\n\u001b[1;32m--> 150\u001b[0m   \u001b[38;5;28;01mreturn\u001b[39;00m fn(\u001b[38;5;241m*\u001b[39margs, \u001b[38;5;241m*\u001b[39m\u001b[38;5;241m*\u001b[39mkwargs)\n\u001b[0;32m    151\u001b[0m \u001b[38;5;28;01mexcept\u001b[39;00m \u001b[38;5;167;01mException\u001b[39;00m \u001b[38;5;28;01mas\u001b[39;00m e:\n\u001b[0;32m    152\u001b[0m   filtered_tb \u001b[38;5;241m=\u001b[39m _process_traceback_frames(e\u001b[38;5;241m.\u001b[39m__traceback__)\n",
      "File \u001b[1;32mc:\\Users\\soham\\anaconda3\\envs\\py310\\lib\\site-packages\\tensorflow\\python\\eager\\def_function.py:915\u001b[0m, in \u001b[0;36mFunction.__call__\u001b[1;34m(self, *args, **kwds)\u001b[0m\n\u001b[0;32m    912\u001b[0m compiler \u001b[38;5;241m=\u001b[39m \u001b[38;5;124m\"\u001b[39m\u001b[38;5;124mxla\u001b[39m\u001b[38;5;124m\"\u001b[39m \u001b[38;5;28;01mif\u001b[39;00m \u001b[38;5;28mself\u001b[39m\u001b[38;5;241m.\u001b[39m_jit_compile \u001b[38;5;28;01melse\u001b[39;00m \u001b[38;5;124m\"\u001b[39m\u001b[38;5;124mnonXla\u001b[39m\u001b[38;5;124m\"\u001b[39m\n\u001b[0;32m    914\u001b[0m \u001b[38;5;28;01mwith\u001b[39;00m OptionalXlaContext(\u001b[38;5;28mself\u001b[39m\u001b[38;5;241m.\u001b[39m_jit_compile):\n\u001b[1;32m--> 915\u001b[0m   result \u001b[38;5;241m=\u001b[39m \u001b[38;5;28mself\u001b[39m\u001b[38;5;241m.\u001b[39m_call(\u001b[38;5;241m*\u001b[39margs, \u001b[38;5;241m*\u001b[39m\u001b[38;5;241m*\u001b[39mkwds)\n\u001b[0;32m    917\u001b[0m new_tracing_count \u001b[38;5;241m=\u001b[39m \u001b[38;5;28mself\u001b[39m\u001b[38;5;241m.\u001b[39mexperimental_get_tracing_count()\n\u001b[0;32m    918\u001b[0m without_tracing \u001b[38;5;241m=\u001b[39m (tracing_count \u001b[38;5;241m==\u001b[39m new_tracing_count)\n",
      "File \u001b[1;32mc:\\Users\\soham\\anaconda3\\envs\\py310\\lib\\site-packages\\tensorflow\\python\\eager\\def_function.py:947\u001b[0m, in \u001b[0;36mFunction._call\u001b[1;34m(self, *args, **kwds)\u001b[0m\n\u001b[0;32m    944\u001b[0m   \u001b[38;5;28mself\u001b[39m\u001b[38;5;241m.\u001b[39m_lock\u001b[38;5;241m.\u001b[39mrelease()\n\u001b[0;32m    945\u001b[0m   \u001b[38;5;66;03m# In this case we have created variables on the first call, so we run the\u001b[39;00m\n\u001b[0;32m    946\u001b[0m   \u001b[38;5;66;03m# defunned version which is guaranteed to never create variables.\u001b[39;00m\n\u001b[1;32m--> 947\u001b[0m   \u001b[38;5;28;01mreturn\u001b[39;00m \u001b[38;5;28mself\u001b[39m\u001b[38;5;241m.\u001b[39m_stateless_fn(\u001b[38;5;241m*\u001b[39margs, \u001b[38;5;241m*\u001b[39m\u001b[38;5;241m*\u001b[39mkwds)  \u001b[38;5;66;03m# pylint: disable=not-callable\u001b[39;00m\n\u001b[0;32m    948\u001b[0m \u001b[38;5;28;01melif\u001b[39;00m \u001b[38;5;28mself\u001b[39m\u001b[38;5;241m.\u001b[39m_stateful_fn \u001b[38;5;129;01mis\u001b[39;00m \u001b[38;5;129;01mnot\u001b[39;00m \u001b[38;5;28;01mNone\u001b[39;00m:\n\u001b[0;32m    949\u001b[0m   \u001b[38;5;66;03m# Release the lock early so that multiple threads can perform the call\u001b[39;00m\n\u001b[0;32m    950\u001b[0m   \u001b[38;5;66;03m# in parallel.\u001b[39;00m\n\u001b[0;32m    951\u001b[0m   \u001b[38;5;28mself\u001b[39m\u001b[38;5;241m.\u001b[39m_lock\u001b[38;5;241m.\u001b[39mrelease()\n",
      "File \u001b[1;32mc:\\Users\\soham\\anaconda3\\envs\\py310\\lib\\site-packages\\tensorflow\\python\\eager\\function.py:2496\u001b[0m, in \u001b[0;36mFunction.__call__\u001b[1;34m(self, *args, **kwargs)\u001b[0m\n\u001b[0;32m   2493\u001b[0m \u001b[38;5;28;01mwith\u001b[39;00m \u001b[38;5;28mself\u001b[39m\u001b[38;5;241m.\u001b[39m_lock:\n\u001b[0;32m   2494\u001b[0m   (graph_function,\n\u001b[0;32m   2495\u001b[0m    filtered_flat_args) \u001b[38;5;241m=\u001b[39m \u001b[38;5;28mself\u001b[39m\u001b[38;5;241m.\u001b[39m_maybe_define_function(args, kwargs)\n\u001b[1;32m-> 2496\u001b[0m \u001b[38;5;28;01mreturn\u001b[39;00m \u001b[43mgraph_function\u001b[49m\u001b[38;5;241;43m.\u001b[39;49m\u001b[43m_call_flat\u001b[49m\u001b[43m(\u001b[49m\n\u001b[0;32m   2497\u001b[0m \u001b[43m    \u001b[49m\u001b[43mfiltered_flat_args\u001b[49m\u001b[43m,\u001b[49m\u001b[43m \u001b[49m\u001b[43mcaptured_inputs\u001b[49m\u001b[38;5;241;43m=\u001b[39;49m\u001b[43mgraph_function\u001b[49m\u001b[38;5;241;43m.\u001b[39;49m\u001b[43mcaptured_inputs\u001b[49m\u001b[43m)\u001b[49m\n",
      "File \u001b[1;32mc:\\Users\\soham\\anaconda3\\envs\\py310\\lib\\site-packages\\tensorflow\\python\\eager\\function.py:1862\u001b[0m, in \u001b[0;36mConcreteFunction._call_flat\u001b[1;34m(self, args, captured_inputs, cancellation_manager)\u001b[0m\n\u001b[0;32m   1858\u001b[0m possible_gradient_type \u001b[38;5;241m=\u001b[39m gradients_util\u001b[38;5;241m.\u001b[39mPossibleTapeGradientTypes(args)\n\u001b[0;32m   1859\u001b[0m \u001b[38;5;28;01mif\u001b[39;00m (possible_gradient_type \u001b[38;5;241m==\u001b[39m gradients_util\u001b[38;5;241m.\u001b[39mPOSSIBLE_GRADIENT_TYPES_NONE\n\u001b[0;32m   1860\u001b[0m     \u001b[38;5;129;01mand\u001b[39;00m executing_eagerly):\n\u001b[0;32m   1861\u001b[0m   \u001b[38;5;66;03m# No tape is watching; skip to running the function.\u001b[39;00m\n\u001b[1;32m-> 1862\u001b[0m   \u001b[38;5;28;01mreturn\u001b[39;00m \u001b[38;5;28mself\u001b[39m\u001b[38;5;241m.\u001b[39m_build_call_outputs(\u001b[38;5;28;43mself\u001b[39;49m\u001b[38;5;241;43m.\u001b[39;49m\u001b[43m_inference_function\u001b[49m\u001b[38;5;241;43m.\u001b[39;49m\u001b[43mcall\u001b[49m\u001b[43m(\u001b[49m\n\u001b[0;32m   1863\u001b[0m \u001b[43m      \u001b[49m\u001b[43mctx\u001b[49m\u001b[43m,\u001b[49m\u001b[43m \u001b[49m\u001b[43margs\u001b[49m\u001b[43m,\u001b[49m\u001b[43m \u001b[49m\u001b[43mcancellation_manager\u001b[49m\u001b[38;5;241;43m=\u001b[39;49m\u001b[43mcancellation_manager\u001b[49m\u001b[43m)\u001b[49m)\n\u001b[0;32m   1864\u001b[0m forward_backward \u001b[38;5;241m=\u001b[39m \u001b[38;5;28mself\u001b[39m\u001b[38;5;241m.\u001b[39m_select_forward_and_backward_functions(\n\u001b[0;32m   1865\u001b[0m     args,\n\u001b[0;32m   1866\u001b[0m     possible_gradient_type,\n\u001b[0;32m   1867\u001b[0m     executing_eagerly)\n\u001b[0;32m   1868\u001b[0m forward_function, args_with_tangents \u001b[38;5;241m=\u001b[39m forward_backward\u001b[38;5;241m.\u001b[39mforward()\n",
      "File \u001b[1;32mc:\\Users\\soham\\anaconda3\\envs\\py310\\lib\\site-packages\\tensorflow\\python\\eager\\function.py:499\u001b[0m, in \u001b[0;36m_EagerDefinedFunction.call\u001b[1;34m(self, ctx, args, cancellation_manager)\u001b[0m\n\u001b[0;32m    497\u001b[0m \u001b[38;5;28;01mwith\u001b[39;00m _InterpolateFunctionError(\u001b[38;5;28mself\u001b[39m):\n\u001b[0;32m    498\u001b[0m   \u001b[38;5;28;01mif\u001b[39;00m cancellation_manager \u001b[38;5;129;01mis\u001b[39;00m \u001b[38;5;28;01mNone\u001b[39;00m:\n\u001b[1;32m--> 499\u001b[0m     outputs \u001b[38;5;241m=\u001b[39m \u001b[43mexecute\u001b[49m\u001b[38;5;241;43m.\u001b[39;49m\u001b[43mexecute\u001b[49m\u001b[43m(\u001b[49m\n\u001b[0;32m    500\u001b[0m \u001b[43m        \u001b[49m\u001b[38;5;28;43mstr\u001b[39;49m\u001b[43m(\u001b[49m\u001b[38;5;28;43mself\u001b[39;49m\u001b[38;5;241;43m.\u001b[39;49m\u001b[43msignature\u001b[49m\u001b[38;5;241;43m.\u001b[39;49m\u001b[43mname\u001b[49m\u001b[43m)\u001b[49m\u001b[43m,\u001b[49m\n\u001b[0;32m    501\u001b[0m \u001b[43m        \u001b[49m\u001b[43mnum_outputs\u001b[49m\u001b[38;5;241;43m=\u001b[39;49m\u001b[38;5;28;43mself\u001b[39;49m\u001b[38;5;241;43m.\u001b[39;49m\u001b[43m_num_outputs\u001b[49m\u001b[43m,\u001b[49m\n\u001b[0;32m    502\u001b[0m \u001b[43m        \u001b[49m\u001b[43minputs\u001b[49m\u001b[38;5;241;43m=\u001b[39;49m\u001b[43margs\u001b[49m\u001b[43m,\u001b[49m\n\u001b[0;32m    503\u001b[0m \u001b[43m        \u001b[49m\u001b[43mattrs\u001b[49m\u001b[38;5;241;43m=\u001b[39;49m\u001b[43mattrs\u001b[49m\u001b[43m,\u001b[49m\n\u001b[0;32m    504\u001b[0m \u001b[43m        \u001b[49m\u001b[43mctx\u001b[49m\u001b[38;5;241;43m=\u001b[39;49m\u001b[43mctx\u001b[49m\u001b[43m)\u001b[49m\n\u001b[0;32m    505\u001b[0m   \u001b[38;5;28;01melse\u001b[39;00m:\n\u001b[0;32m    506\u001b[0m     outputs \u001b[38;5;241m=\u001b[39m execute\u001b[38;5;241m.\u001b[39mexecute_with_cancellation(\n\u001b[0;32m    507\u001b[0m         \u001b[38;5;28mstr\u001b[39m(\u001b[38;5;28mself\u001b[39m\u001b[38;5;241m.\u001b[39msignature\u001b[38;5;241m.\u001b[39mname),\n\u001b[0;32m    508\u001b[0m         num_outputs\u001b[38;5;241m=\u001b[39m\u001b[38;5;28mself\u001b[39m\u001b[38;5;241m.\u001b[39m_num_outputs,\n\u001b[1;32m   (...)\u001b[0m\n\u001b[0;32m    511\u001b[0m         ctx\u001b[38;5;241m=\u001b[39mctx,\n\u001b[0;32m    512\u001b[0m         cancellation_manager\u001b[38;5;241m=\u001b[39mcancellation_manager)\n",
      "File \u001b[1;32mc:\\Users\\soham\\anaconda3\\envs\\py310\\lib\\site-packages\\tensorflow\\python\\eager\\execute.py:54\u001b[0m, in \u001b[0;36mquick_execute\u001b[1;34m(op_name, num_outputs, inputs, attrs, ctx, name)\u001b[0m\n\u001b[0;32m     52\u001b[0m \u001b[38;5;28;01mtry\u001b[39;00m:\n\u001b[0;32m     53\u001b[0m   ctx\u001b[38;5;241m.\u001b[39mensure_initialized()\n\u001b[1;32m---> 54\u001b[0m   tensors \u001b[38;5;241m=\u001b[39m \u001b[43mpywrap_tfe\u001b[49m\u001b[38;5;241;43m.\u001b[39;49m\u001b[43mTFE_Py_Execute\u001b[49m\u001b[43m(\u001b[49m\u001b[43mctx\u001b[49m\u001b[38;5;241;43m.\u001b[39;49m\u001b[43m_handle\u001b[49m\u001b[43m,\u001b[49m\u001b[43m \u001b[49m\u001b[43mdevice_name\u001b[49m\u001b[43m,\u001b[49m\u001b[43m \u001b[49m\u001b[43mop_name\u001b[49m\u001b[43m,\u001b[49m\n\u001b[0;32m     55\u001b[0m \u001b[43m                                      \u001b[49m\u001b[43minputs\u001b[49m\u001b[43m,\u001b[49m\u001b[43m \u001b[49m\u001b[43mattrs\u001b[49m\u001b[43m,\u001b[49m\u001b[43m \u001b[49m\u001b[43mnum_outputs\u001b[49m\u001b[43m)\u001b[49m\n\u001b[0;32m     56\u001b[0m \u001b[38;5;28;01mexcept\u001b[39;00m core\u001b[38;5;241m.\u001b[39m_NotOkStatusException \u001b[38;5;28;01mas\u001b[39;00m e:\n\u001b[0;32m     57\u001b[0m   \u001b[38;5;28;01mif\u001b[39;00m name \u001b[38;5;129;01mis\u001b[39;00m \u001b[38;5;129;01mnot\u001b[39;00m \u001b[38;5;28;01mNone\u001b[39;00m:\n",
      "\u001b[1;31mKeyboardInterrupt\u001b[0m: "
     ]
    }
   ],
   "source": [
    "model = Model(inputs=base_model.input, outputs=predictions)\n",
    "\n",
    "# Compile the model\n",
    "model.compile(optimizer='adam', loss='categorical_crossentropy', metrics=['accuracy'])\n",
    "\n",
    "# Train the model\n",
    "BATCH_SIZE = 1\n",
    "history = model.fit(X_train, Y_train_onehot, validation_data=(X_test, Y_test_onehot), epochs=100, batch_size=BATCH_SIZE)\n",
    "\n",
    "# Optionally, unfreeze some of the base layers and fine-tune the model\n",
    "# Unfreeze the base model layers\n",
    "base_model.trainable = True\n"
   ]
  },
  {
   "cell_type": "code",
   "execution_count": null,
   "metadata": {},
   "outputs": [],
   "source": [
    "# Recompile and fine-tune the model\n",
    "model.compile(optimizer=tf.keras.optimizers.Adam(1e-5), loss='categorical_crossentropy', metrics=['accuracy'])\n",
    "history_fine_tune = model.fit(X_train, Y_train_onehot, validation_data=(X_test, Y_test_onehot), epochs=5, batch_size=BATCH_SIZE)\n"
   ]
  }
 ],
 "metadata": {
  "kernelspec": {
   "display_name": "py310",
   "language": "python",
   "name": "python3"
  },
  "language_info": {
   "codemirror_mode": {
    "name": "ipython",
    "version": 3
   },
   "file_extension": ".py",
   "mimetype": "text/x-python",
   "name": "python",
   "nbconvert_exporter": "python",
   "pygments_lexer": "ipython3",
   "version": "3.10.13"
  }
 },
 "nbformat": 4,
 "nbformat_minor": 2
}
