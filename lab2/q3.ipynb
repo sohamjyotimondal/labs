{
 "cells": [
  {
   "cell_type": "code",
   "execution_count": 69,
   "metadata": {},
   "outputs": [],
   "source": [
    "import tensorflow as tf\n",
    "import numpy as np \n",
    "import pandas as pd"
   ]
  },
  {
   "cell_type": "code",
   "execution_count": 70,
   "metadata": {},
   "outputs": [],
   "source": [
    "df=pd.read_csv('stroke-data.csv')"
   ]
  },
  {
   "cell_type": "code",
   "execution_count": 71,
   "metadata": {},
   "outputs": [
    {
     "data": {
      "text/html": [
       "<div>\n",
       "<style scoped>\n",
       "    .dataframe tbody tr th:only-of-type {\n",
       "        vertical-align: middle;\n",
       "    }\n",
       "\n",
       "    .dataframe tbody tr th {\n",
       "        vertical-align: top;\n",
       "    }\n",
       "\n",
       "    .dataframe thead th {\n",
       "        text-align: right;\n",
       "    }\n",
       "</style>\n",
       "<table border=\"1\" class=\"dataframe\">\n",
       "  <thead>\n",
       "    <tr style=\"text-align: right;\">\n",
       "      <th></th>\n",
       "      <th>id</th>\n",
       "      <th>gender</th>\n",
       "      <th>age</th>\n",
       "      <th>hypertension</th>\n",
       "      <th>heart_disease</th>\n",
       "      <th>ever_married</th>\n",
       "      <th>work_type</th>\n",
       "      <th>Residence_type</th>\n",
       "      <th>avg_glucose_level</th>\n",
       "      <th>bmi</th>\n",
       "      <th>smoking_status</th>\n",
       "      <th>stroke</th>\n",
       "    </tr>\n",
       "  </thead>\n",
       "  <tbody>\n",
       "    <tr>\n",
       "      <th>0</th>\n",
       "      <td>9046</td>\n",
       "      <td>Male</td>\n",
       "      <td>67.0</td>\n",
       "      <td>0</td>\n",
       "      <td>1</td>\n",
       "      <td>Yes</td>\n",
       "      <td>Private</td>\n",
       "      <td>Urban</td>\n",
       "      <td>228.69</td>\n",
       "      <td>36.6</td>\n",
       "      <td>formerly smoked</td>\n",
       "      <td>1</td>\n",
       "    </tr>\n",
       "    <tr>\n",
       "      <th>1</th>\n",
       "      <td>51676</td>\n",
       "      <td>Female</td>\n",
       "      <td>61.0</td>\n",
       "      <td>0</td>\n",
       "      <td>0</td>\n",
       "      <td>Yes</td>\n",
       "      <td>Self-employed</td>\n",
       "      <td>Rural</td>\n",
       "      <td>202.21</td>\n",
       "      <td>NaN</td>\n",
       "      <td>never smoked</td>\n",
       "      <td>1</td>\n",
       "    </tr>\n",
       "    <tr>\n",
       "      <th>2</th>\n",
       "      <td>31112</td>\n",
       "      <td>Male</td>\n",
       "      <td>80.0</td>\n",
       "      <td>0</td>\n",
       "      <td>1</td>\n",
       "      <td>Yes</td>\n",
       "      <td>Private</td>\n",
       "      <td>Rural</td>\n",
       "      <td>105.92</td>\n",
       "      <td>32.5</td>\n",
       "      <td>never smoked</td>\n",
       "      <td>1</td>\n",
       "    </tr>\n",
       "    <tr>\n",
       "      <th>3</th>\n",
       "      <td>60182</td>\n",
       "      <td>Female</td>\n",
       "      <td>49.0</td>\n",
       "      <td>0</td>\n",
       "      <td>0</td>\n",
       "      <td>Yes</td>\n",
       "      <td>Private</td>\n",
       "      <td>Urban</td>\n",
       "      <td>171.23</td>\n",
       "      <td>34.4</td>\n",
       "      <td>smokes</td>\n",
       "      <td>1</td>\n",
       "    </tr>\n",
       "    <tr>\n",
       "      <th>4</th>\n",
       "      <td>1665</td>\n",
       "      <td>Female</td>\n",
       "      <td>79.0</td>\n",
       "      <td>1</td>\n",
       "      <td>0</td>\n",
       "      <td>Yes</td>\n",
       "      <td>Self-employed</td>\n",
       "      <td>Rural</td>\n",
       "      <td>174.12</td>\n",
       "      <td>24.0</td>\n",
       "      <td>never smoked</td>\n",
       "      <td>1</td>\n",
       "    </tr>\n",
       "  </tbody>\n",
       "</table>\n",
       "</div>"
      ],
      "text/plain": [
       "      id  gender   age  hypertension  heart_disease ever_married  \\\n",
       "0   9046    Male  67.0             0              1          Yes   \n",
       "1  51676  Female  61.0             0              0          Yes   \n",
       "2  31112    Male  80.0             0              1          Yes   \n",
       "3  60182  Female  49.0             0              0          Yes   \n",
       "4   1665  Female  79.0             1              0          Yes   \n",
       "\n",
       "       work_type Residence_type  avg_glucose_level   bmi   smoking_status  \\\n",
       "0        Private          Urban             228.69  36.6  formerly smoked   \n",
       "1  Self-employed          Rural             202.21   NaN     never smoked   \n",
       "2        Private          Rural             105.92  32.5     never smoked   \n",
       "3        Private          Urban             171.23  34.4           smokes   \n",
       "4  Self-employed          Rural             174.12  24.0     never smoked   \n",
       "\n",
       "   stroke  \n",
       "0       1  \n",
       "1       1  \n",
       "2       1  \n",
       "3       1  \n",
       "4       1  "
      ]
     },
     "execution_count": 71,
     "metadata": {},
     "output_type": "execute_result"
    }
   ],
   "source": [
    "df.head(5)"
   ]
  },
  {
   "cell_type": "code",
   "execution_count": 72,
   "metadata": {},
   "outputs": [
    {
     "name": "stdout",
     "output_type": "stream",
     "text": [
      "<class 'pandas.core.frame.DataFrame'>\n",
      "RangeIndex: 5110 entries, 0 to 5109\n",
      "Data columns (total 12 columns):\n",
      " #   Column             Non-Null Count  Dtype  \n",
      "---  ------             --------------  -----  \n",
      " 0   id                 5110 non-null   int64  \n",
      " 1   gender             5110 non-null   object \n",
      " 2   age                5110 non-null   float64\n",
      " 3   hypertension       5110 non-null   int64  \n",
      " 4   heart_disease      5110 non-null   int64  \n",
      " 5   ever_married       5110 non-null   object \n",
      " 6   work_type          5110 non-null   object \n",
      " 7   Residence_type     5110 non-null   object \n",
      " 8   avg_glucose_level  5110 non-null   float64\n",
      " 9   bmi                4909 non-null   float64\n",
      " 10  smoking_status     5110 non-null   object \n",
      " 11  stroke             5110 non-null   int64  \n",
      "dtypes: float64(3), int64(4), object(5)\n",
      "memory usage: 479.2+ KB\n"
     ]
    }
   ],
   "source": [
    "df.info()"
   ]
  },
  {
   "cell_type": "code",
   "execution_count": 73,
   "metadata": {},
   "outputs": [
    {
     "name": "stdout",
     "output_type": "stream",
     "text": [
      "id                     0\n",
      "gender                 0\n",
      "age                    0\n",
      "hypertension           0\n",
      "heart_disease          0\n",
      "ever_married           0\n",
      "work_type              0\n",
      "Residence_type         0\n",
      "avg_glucose_level      0\n",
      "bmi                  201\n",
      "smoking_status         0\n",
      "stroke                 0\n",
      "dtype: int64\n"
     ]
    },
    {
     "data": {
      "image/png": "[encoded data removed]",
      "text/plain": [
       "<Figure size 640x480 with 1 Axes>"
      ]
     },
     "metadata": {},
     "output_type": "display_data"
    }
   ],
   "source": [
    "import seaborn as sns\n",
    "#make heatmap of null values\n",
    "sns.heatmap(df.isnull(),yticklabels=False,cbar=False,cmap='viridis')\n",
    "#print number of rows with null values\n",
    "print(df.isnull().sum())"
   ]
  },
  {
   "cell_type": "markdown",
   "metadata": {},
   "source": [
    ">Check unique values for categorical features"
   ]
  },
  {
   "cell_type": "code",
   "execution_count": 74,
   "metadata": {},
   "outputs": [
    {
     "name": "stdout",
     "output_type": "stream",
     "text": [
      "smoking_status 4\n",
      "work_type 5\n",
      "Residence_type 2\n",
      "ever_married 2\n",
      "gender 3\n"
     ]
    }
   ],
   "source": [
    "columns=[\"smoking_status\",\"work_type\",\"Residence_type\",\"ever_married\",\"gender\"]\n",
    "#check number of unique vaues for each column\n",
    "df.dropna(inplace=True)\n",
    "for col in columns:\n",
    "    print(col,df[col].nunique())\n",
    "\n",
    "#one hot encoding for categorical columns to numerical values nnot true false\n",
    "\n",
    "df=pd.get_dummies(df,columns=columns,dtype=int)"
   ]
  },
  {
   "cell_type": "code",
   "execution_count": 75,
   "metadata": {},
   "outputs": [],
   "source": [
    "from sklearn.model_selection import train_test_split\n",
    "\n",
    "X=df.drop(['stroke'],axis=1)\n",
    "\n",
    "y=df['stroke']"
   ]
  },
  {
   "cell_type": "code",
   "execution_count": 76,
   "metadata": {},
   "outputs": [],
   "source": [
    "X_train, X_test, y_train, y_test = train_test_split(X, y, test_size=0.3, random_state=42)\n"
   ]
  },
  {
   "cell_type": "code",
   "execution_count": 77,
   "metadata": {},
   "outputs": [],
   "source": [
    "#make sequential model for prediction\n",
    "model = tf.keras.models.Sequential()\n",
    "model.add(tf.keras.layers.Dense(128,activation='relu'))\n",
    "model.add(tf.keras.layers.Dense(64,activation='relu'))\n",
    "model.add(tf.keras.layers.Dense(32,activation='relu'))\n",
    "model.add(tf.keras.layers.Dense(1,activation='sigmoid'))\n"
   ]
  },
  {
   "cell_type": "code",
   "execution_count": 78,
   "metadata": {},
   "outputs": [],
   "source": [
    "model.compile(optimizer='adam',loss='binary_crossentropy',metrics=['accuracy'])"
   ]
  },
  {
   "cell_type": "code",
   "execution_count": 79,
   "metadata": {},
   "outputs": [
    {
     "name": "stdout",
     "output_type": "stream",
     "text": [
      "Epoch 1/100\n",
      "108/108 [==============================] - 2s 11ms/step - loss: 22.6551 - accuracy: 0.9153 - val_loss: 15.8781 - val_accuracy: 0.9511\n",
      "Epoch 2/100\n",
      "108/108 [==============================] - 1s 8ms/step - loss: 10.0819 - accuracy: 0.9243 - val_loss: 0.8747 - val_accuracy: 0.9117\n",
      "Epoch 3/100\n",
      "108/108 [==============================] - 1s 8ms/step - loss: 10.9054 - accuracy: 0.9139 - val_loss: 16.1987 - val_accuracy: 0.9511\n",
      "Epoch 4/100\n",
      "108/108 [==============================] - 1s 7ms/step - loss: 11.0148 - accuracy: 0.9095 - val_loss: 29.6335 - val_accuracy: 0.9511\n",
      "Epoch 5/100\n",
      "108/108 [==============================] - 1s 8ms/step - loss: 10.3307 - accuracy: 0.9211 - val_loss: 13.9657 - val_accuracy: 0.9511\n",
      "Epoch 6/100\n",
      "108/108 [==============================] - 1s 12ms/step - loss: 6.1393 - accuracy: 0.9173 - val_loss: 9.5077 - val_accuracy: 0.9511\n",
      "Epoch 7/100\n",
      "108/108 [==============================] - 1s 9ms/step - loss: 6.4887 - accuracy: 0.9226 - val_loss: 5.7839 - val_accuracy: 0.9511\n",
      "Epoch 8/100\n",
      "108/108 [==============================] - 1s 8ms/step - loss: 9.9286 - accuracy: 0.9220 - val_loss: 9.8068 - val_accuracy: 0.9511\n",
      "Epoch 9/100\n",
      "108/108 [==============================] - 1s 9ms/step - loss: 7.6940 - accuracy: 0.9141 - val_loss: 7.4241 - val_accuracy: 0.9511\n",
      "Epoch 10/100\n",
      "108/108 [==============================] - 1s 8ms/step - loss: 5.4631 - accuracy: 0.9208 - val_loss: 10.2599 - val_accuracy: 0.9511\n",
      "Epoch 11/100\n",
      "108/108 [==============================] - 1s 8ms/step - loss: 3.1871 - accuracy: 0.9107 - val_loss: 2.5989 - val_accuracy: 0.9511\n",
      "Epoch 12/100\n",
      "108/108 [==============================] - 1s 7ms/step - loss: 5.0811 - accuracy: 0.9171 - val_loss: 5.2515 - val_accuracy: 0.9504\n",
      "Epoch 13/100\n",
      "108/108 [==============================] - 1s 7ms/step - loss: 5.0345 - accuracy: 0.9252 - val_loss: 3.8959 - val_accuracy: 0.9498\n",
      "Epoch 14/100\n",
      "108/108 [==============================] - 1s 7ms/step - loss: 3.1935 - accuracy: 0.9104 - val_loss: 5.1116 - val_accuracy: 0.9511\n",
      "Epoch 15/100\n",
      "108/108 [==============================] - 1s 7ms/step - loss: 2.1865 - accuracy: 0.9144 - val_loss: 5.5307 - val_accuracy: 0.9511\n",
      "Epoch 16/100\n",
      "108/108 [==============================] - 1s 7ms/step - loss: 5.9826 - accuracy: 0.9139 - val_loss: 3.1247 - val_accuracy: 0.9511\n",
      "Epoch 17/100\n",
      "108/108 [==============================] - 1s 7ms/step - loss: 2.5532 - accuracy: 0.9252 - val_loss: 2.0816 - val_accuracy: 0.9511\n",
      "Epoch 18/100\n",
      "108/108 [==============================] - 1s 7ms/step - loss: 2.1237 - accuracy: 0.9144 - val_loss: 4.2694 - val_accuracy: 0.9511\n",
      "Epoch 19/100\n",
      "108/108 [==============================] - 1s 7ms/step - loss: 2.6708 - accuracy: 0.9240 - val_loss: 2.3620 - val_accuracy: 0.9511\n",
      "Epoch 20/100\n",
      "108/108 [==============================] - 1s 7ms/step - loss: 1.4031 - accuracy: 0.9223 - val_loss: 1.6951 - val_accuracy: 0.0998\n",
      "Epoch 21/100\n",
      "108/108 [==============================] - 1s 9ms/step - loss: 1.7003 - accuracy: 0.9214 - val_loss: 0.6292 - val_accuracy: 0.9511\n",
      "Epoch 22/100\n",
      "108/108 [==============================] - 1s 9ms/step - loss: 0.6086 - accuracy: 0.9299 - val_loss: 4.6747 - val_accuracy: 0.9511\n",
      "Epoch 23/100\n",
      "108/108 [==============================] - 1s 7ms/step - loss: 1.3013 - accuracy: 0.9395 - val_loss: 0.3991 - val_accuracy: 0.9511\n",
      "Epoch 24/100\n",
      "108/108 [==============================] - 1s 7ms/step - loss: 1.2732 - accuracy: 0.9264 - val_loss: 1.5127 - val_accuracy: 0.9511\n",
      "Epoch 25/100\n",
      "108/108 [==============================] - 1s 7ms/step - loss: 1.3934 - accuracy: 0.9243 - val_loss: 2.2084 - val_accuracy: 0.9511\n",
      "Epoch 26/100\n",
      "108/108 [==============================] - 1s 7ms/step - loss: 1.3524 - accuracy: 0.9246 - val_loss: 1.2837 - val_accuracy: 0.9511\n",
      "Epoch 27/100\n",
      "108/108 [==============================] - 1s 7ms/step - loss: 0.8941 - accuracy: 0.9302 - val_loss: 0.5155 - val_accuracy: 0.9504\n",
      "Epoch 28/100\n",
      "108/108 [==============================] - 1s 7ms/step - loss: 1.0851 - accuracy: 0.9334 - val_loss: 1.3040 - val_accuracy: 0.2179\n",
      "Epoch 29/100\n",
      "108/108 [==============================] - 1s 7ms/step - loss: 0.9621 - accuracy: 0.9272 - val_loss: 0.3144 - val_accuracy: 0.9511\n",
      "Epoch 30/100\n",
      "108/108 [==============================] - 1s 8ms/step - loss: 0.3479 - accuracy: 0.9497 - val_loss: 0.2354 - val_accuracy: 0.9504\n",
      "Epoch 31/100\n",
      "108/108 [==============================] - 1s 7ms/step - loss: 0.2983 - accuracy: 0.9540 - val_loss: 0.3105 - val_accuracy: 0.9511\n",
      "Epoch 32/100\n",
      "108/108 [==============================] - 1s 7ms/step - loss: 0.5307 - accuracy: 0.9430 - val_loss: 0.9205 - val_accuracy: 0.9511\n",
      "Epoch 33/100\n",
      "108/108 [==============================] - 1s 7ms/step - loss: 1.4632 - accuracy: 0.9302 - val_loss: 2.9928 - val_accuracy: 0.9511\n",
      "Epoch 34/100\n",
      "108/108 [==============================] - 1s 9ms/step - loss: 0.8409 - accuracy: 0.9531 - val_loss: 0.2626 - val_accuracy: 0.9511\n",
      "Epoch 35/100\n",
      "108/108 [==============================] - 1s 7ms/step - loss: 0.2383 - accuracy: 0.9604 - val_loss: 0.2661 - val_accuracy: 0.9511\n",
      "Epoch 36/100\n",
      "108/108 [==============================] - 1s 7ms/step - loss: 0.2346 - accuracy: 0.9604 - val_loss: 0.2528 - val_accuracy: 0.9511\n",
      "Epoch 37/100\n",
      "108/108 [==============================] - 1s 9ms/step - loss: 0.2303 - accuracy: 0.9601 - val_loss: 0.2559 - val_accuracy: 0.9511\n",
      "Epoch 38/100\n",
      "108/108 [==============================] - 1s 7ms/step - loss: 0.2284 - accuracy: 0.9604 - val_loss: 0.2462 - val_accuracy: 0.9504\n",
      "Epoch 39/100\n",
      "108/108 [==============================] - 1s 7ms/step - loss: 0.2244 - accuracy: 0.9601 - val_loss: 0.2434 - val_accuracy: 0.9511\n",
      "Epoch 40/100\n",
      "108/108 [==============================] - 1s 7ms/step - loss: 0.2255 - accuracy: 0.9604 - val_loss: 0.2462 - val_accuracy: 0.9511\n",
      "Epoch 41/100\n",
      "108/108 [==============================] - 1s 7ms/step - loss: 0.2194 - accuracy: 0.9604 - val_loss: 0.2448 - val_accuracy: 0.9511\n",
      "Epoch 42/100\n",
      "108/108 [==============================] - 1s 7ms/step - loss: 0.2171 - accuracy: 0.9604 - val_loss: 0.2521 - val_accuracy: 0.9511\n",
      "Epoch 43/100\n",
      "108/108 [==============================] - 1s 7ms/step - loss: 0.2140 - accuracy: 0.9604 - val_loss: 0.2438 - val_accuracy: 0.9511\n",
      "Epoch 44/100\n",
      "108/108 [==============================] - 1s 7ms/step - loss: 0.2116 - accuracy: 0.9604 - val_loss: 0.2363 - val_accuracy: 0.9511\n",
      "Epoch 45/100\n",
      "108/108 [==============================] - 1s 7ms/step - loss: 0.2095 - accuracy: 0.9604 - val_loss: 0.2537 - val_accuracy: 0.9511\n",
      "Epoch 46/100\n",
      "108/108 [==============================] - 1s 7ms/step - loss: 0.2055 - accuracy: 0.9601 - val_loss: 0.2301 - val_accuracy: 0.9511\n",
      "Epoch 47/100\n",
      "108/108 [==============================] - 1s 7ms/step - loss: 0.2052 - accuracy: 0.9598 - val_loss: 0.2273 - val_accuracy: 0.9511\n",
      "Epoch 48/100\n",
      "108/108 [==============================] - 1s 7ms/step - loss: 0.2084 - accuracy: 0.9598 - val_loss: 0.2242 - val_accuracy: 0.9511\n",
      "Epoch 49/100\n",
      "108/108 [==============================] - 1s 8ms/step - loss: 0.1976 - accuracy: 0.9604 - val_loss: 0.2252 - val_accuracy: 0.9511\n",
      "Epoch 50/100\n",
      "108/108 [==============================] - 1s 8ms/step - loss: 0.1982 - accuracy: 0.9604 - val_loss: 0.2260 - val_accuracy: 0.9511\n",
      "Epoch 51/100\n",
      "108/108 [==============================] - 1s 7ms/step - loss: 0.1958 - accuracy: 0.9604 - val_loss: 0.2208 - val_accuracy: 0.9511\n",
      "Epoch 52/100\n",
      "108/108 [==============================] - 1s 8ms/step - loss: 0.1952 - accuracy: 0.9604 - val_loss: 0.2223 - val_accuracy: 0.9511\n",
      "Epoch 53/100\n",
      "108/108 [==============================] - 1s 6ms/step - loss: 0.1958 - accuracy: 0.9604 - val_loss: 0.2192 - val_accuracy: 0.9511\n",
      "Epoch 54/100\n",
      "108/108 [==============================] - 1s 8ms/step - loss: 0.2019 - accuracy: 0.9604 - val_loss: 0.2281 - val_accuracy: 0.9511\n",
      "Epoch 55/100\n",
      "108/108 [==============================] - 1s 8ms/step - loss: 0.1957 - accuracy: 0.9604 - val_loss: 0.2295 - val_accuracy: 0.9511\n",
      "Epoch 56/100\n",
      "108/108 [==============================] - 1s 8ms/step - loss: 0.1932 - accuracy: 0.9604 - val_loss: 0.2191 - val_accuracy: 0.9511\n",
      "Epoch 57/100\n",
      "108/108 [==============================] - 1s 7ms/step - loss: 0.1952 - accuracy: 0.9604 - val_loss: 0.2177 - val_accuracy: 0.9511\n",
      "Epoch 58/100\n",
      "108/108 [==============================] - 1s 7ms/step - loss: 0.1923 - accuracy: 0.9604 - val_loss: 0.2210 - val_accuracy: 0.9511\n",
      "Epoch 59/100\n",
      "108/108 [==============================] - 1s 7ms/step - loss: 0.1890 - accuracy: 0.9604 - val_loss: 0.2191 - val_accuracy: 0.9511\n",
      "Epoch 60/100\n",
      "108/108 [==============================] - 1s 7ms/step - loss: 0.1893 - accuracy: 0.9604 - val_loss: 0.2206 - val_accuracy: 0.9511\n",
      "Epoch 61/100\n",
      "108/108 [==============================] - 1s 7ms/step - loss: 0.1908 - accuracy: 0.9604 - val_loss: 0.2198 - val_accuracy: 0.9511\n",
      "Epoch 62/100\n",
      "108/108 [==============================] - 1s 7ms/step - loss: 0.1864 - accuracy: 0.9604 - val_loss: 0.2432 - val_accuracy: 0.9511\n",
      "Epoch 63/100\n",
      "108/108 [==============================] - 1s 7ms/step - loss: 0.1853 - accuracy: 0.9604 - val_loss: 0.2104 - val_accuracy: 0.9504\n",
      "Epoch 64/100\n",
      "108/108 [==============================] - 1s 7ms/step - loss: 0.1870 - accuracy: 0.9601 - val_loss: 0.2111 - val_accuracy: 0.9511\n",
      "Epoch 65/100\n",
      "108/108 [==============================] - 1s 7ms/step - loss: 0.1845 - accuracy: 0.9598 - val_loss: 0.3214 - val_accuracy: 0.9511\n",
      "Epoch 66/100\n",
      "108/108 [==============================] - 1s 10ms/step - loss: 0.2021 - accuracy: 0.9604 - val_loss: 0.2098 - val_accuracy: 0.9511\n",
      "Epoch 67/100\n",
      "108/108 [==============================] - 1s 8ms/step - loss: 0.1883 - accuracy: 0.9601 - val_loss: 0.2107 - val_accuracy: 0.9511\n",
      "Epoch 68/100\n",
      "108/108 [==============================] - 1s 7ms/step - loss: 0.1851 - accuracy: 0.9604 - val_loss: 0.2203 - val_accuracy: 0.9511\n",
      "Epoch 69/100\n",
      "108/108 [==============================] - 1s 7ms/step - loss: 0.1835 - accuracy: 0.9604 - val_loss: 0.2060 - val_accuracy: 0.9504\n",
      "Epoch 70/100\n",
      "108/108 [==============================] - 1s 7ms/step - loss: 0.1844 - accuracy: 0.9604 - val_loss: 0.2050 - val_accuracy: 0.9511\n",
      "Epoch 71/100\n",
      "108/108 [==============================] - 1s 8ms/step - loss: 0.1804 - accuracy: 0.9604 - val_loss: 0.2050 - val_accuracy: 0.9511\n",
      "Epoch 72/100\n",
      "108/108 [==============================] - 1s 7ms/step - loss: 0.1802 - accuracy: 0.9604 - val_loss: 0.2048 - val_accuracy: 0.9511\n",
      "Epoch 73/100\n",
      "108/108 [==============================] - 1s 7ms/step - loss: 0.1778 - accuracy: 0.9604 - val_loss: 0.2035 - val_accuracy: 0.9511\n",
      "Epoch 74/100\n",
      "108/108 [==============================] - 1s 6ms/step - loss: 0.1779 - accuracy: 0.9604 - val_loss: 0.2043 - val_accuracy: 0.9511\n",
      "Epoch 75/100\n",
      "108/108 [==============================] - 1s 7ms/step - loss: 0.1785 - accuracy: 0.9604 - val_loss: 0.2247 - val_accuracy: 0.9511\n",
      "Epoch 76/100\n",
      "108/108 [==============================] - 1s 7ms/step - loss: 0.1761 - accuracy: 0.9604 - val_loss: 0.2024 - val_accuracy: 0.9511\n",
      "Epoch 77/100\n",
      "108/108 [==============================] - 1s 7ms/step - loss: 0.1762 - accuracy: 0.9604 - val_loss: 0.2053 - val_accuracy: 0.9511\n",
      "Epoch 78/100\n",
      "108/108 [==============================] - 1s 9ms/step - loss: 0.1785 - accuracy: 0.9604 - val_loss: 0.2067 - val_accuracy: 0.9511\n",
      "Epoch 79/100\n",
      "108/108 [==============================] - 1s 11ms/step - loss: 0.1763 - accuracy: 0.9604 - val_loss: 0.2116 - val_accuracy: 0.9511\n",
      "Epoch 80/100\n",
      "108/108 [==============================] - 1s 12ms/step - loss: 0.1765 - accuracy: 0.9604 - val_loss: 0.2095 - val_accuracy: 0.9511\n",
      "Epoch 81/100\n",
      "108/108 [==============================] - 1s 13ms/step - loss: 0.1766 - accuracy: 0.9604 - val_loss: 0.2059 - val_accuracy: 0.9511\n",
      "Epoch 82/100\n",
      "108/108 [==============================] - 1s 10ms/step - loss: 0.1775 - accuracy: 0.9604 - val_loss: 0.2139 - val_accuracy: 0.9511\n",
      "Epoch 83/100\n",
      "108/108 [==============================] - 1s 9ms/step - loss: 0.1743 - accuracy: 0.9607 - val_loss: 0.2029 - val_accuracy: 0.9511\n",
      "Epoch 84/100\n",
      "108/108 [==============================] - 1s 7ms/step - loss: 0.1740 - accuracy: 0.9604 - val_loss: 0.2025 - val_accuracy: 0.9511\n",
      "Epoch 85/100\n",
      "108/108 [==============================] - 1s 7ms/step - loss: 0.1776 - accuracy: 0.9604 - val_loss: 0.2062 - val_accuracy: 0.9511\n",
      "Epoch 86/100\n",
      "108/108 [==============================] - 1s 8ms/step - loss: 0.1854 - accuracy: 0.9604 - val_loss: 0.2059 - val_accuracy: 0.9511\n",
      "Epoch 87/100\n",
      "108/108 [==============================] - 1s 7ms/step - loss: 0.1793 - accuracy: 0.9604 - val_loss: 0.2048 - val_accuracy: 0.9511\n",
      "Epoch 88/100\n",
      "108/108 [==============================] - 1s 8ms/step - loss: 0.1771 - accuracy: 0.9604 - val_loss: 0.2056 - val_accuracy: 0.9511\n",
      "Epoch 89/100\n",
      "108/108 [==============================] - 1s 8ms/step - loss: 0.1733 - accuracy: 0.9604 - val_loss: 0.2024 - val_accuracy: 0.9511\n",
      "Epoch 90/100\n",
      "108/108 [==============================] - 1s 8ms/step - loss: 0.1713 - accuracy: 0.9604 - val_loss: 0.1969 - val_accuracy: 0.9511\n",
      "Epoch 91/100\n",
      "108/108 [==============================] - 1s 9ms/step - loss: 0.1708 - accuracy: 0.9604 - val_loss: 0.1978 - val_accuracy: 0.9511\n",
      "Epoch 92/100\n",
      "108/108 [==============================] - 1s 10ms/step - loss: 0.1688 - accuracy: 0.9604 - val_loss: 0.1993 - val_accuracy: 0.9511\n",
      "Epoch 93/100\n",
      "108/108 [==============================] - 1s 9ms/step - loss: 0.1678 - accuracy: 0.9601 - val_loss: 0.2032 - val_accuracy: 0.9511\n",
      "Epoch 94/100\n",
      "108/108 [==============================] - 1s 9ms/step - loss: 0.1675 - accuracy: 0.9601 - val_loss: 0.2007 - val_accuracy: 0.9511\n",
      "Epoch 95/100\n",
      "108/108 [==============================] - 1s 7ms/step - loss: 0.1664 - accuracy: 0.9604 - val_loss: 0.2013 - val_accuracy: 0.9511\n",
      "Epoch 96/100\n",
      "108/108 [==============================] - 1s 7ms/step - loss: 0.1661 - accuracy: 0.9604 - val_loss: 0.2025 - val_accuracy: 0.9511\n",
      "Epoch 97/100\n",
      "108/108 [==============================] - 1s 8ms/step - loss: 0.1658 - accuracy: 0.9607 - val_loss: 0.1945 - val_accuracy: 0.9511\n",
      "Epoch 98/100\n",
      "108/108 [==============================] - 1s 7ms/step - loss: 0.1657 - accuracy: 0.9604 - val_loss: 0.1953 - val_accuracy: 0.9511\n",
      "Epoch 99/100\n",
      "108/108 [==============================] - 1s 8ms/step - loss: 0.1657 - accuracy: 0.9601 - val_loss: 0.1944 - val_accuracy: 0.9511\n",
      "Epoch 100/100\n",
      "108/108 [==============================] - 1s 9ms/step - loss: 0.1659 - accuracy: 0.9604 - val_loss: 0.2007 - val_accuracy: 0.9511\n"
     ]
    }
   ],
   "source": [
    "history=model.fit(X_train,y_train,epochs=100,validation_data=(X_test,y_test))"
   ]
  },
  {
   "cell_type": "code",
   "execution_count": 80,
   "metadata": {},
   "outputs": [
    {
     "data": {
      "text/plain": [
       "<matplotlib.legend.Legend at 0x15e4f5e9600>"
      ]
     },
     "execution_count": 80,
     "metadata": {},
     "output_type": "execute_result"
    },
    {
     "data": {
      "image/png": "[encoded data removed]",
      "text/plain": [
       "<Figure size 640x480 with 1 Axes>"
      ]
     },
     "metadata": {},
     "output_type": "display_data"
    }
   ],
   "source": [
    "#plot loss and accuracy\n",
    "import matplotlib.pyplot as plt\n",
    "\n",
    "plt.plot(history.history['loss'])\n",
    "plt.plot(history.history['val_loss'])\n",
    "plt.title('model loss')\n",
    "plt.ylabel('loss')\n",
    "plt.xlabel('epoch')\n",
    "plt.legend(['train', 'test'], loc='upper left')"
   ]
  },
  {
   "cell_type": "code",
   "execution_count": 81,
   "metadata": {},
   "outputs": [
    {
     "data": {
      "text/plain": [
       "<matplotlib.legend.Legend at 0x15e4f729e70>"
      ]
     },
     "execution_count": 81,
     "metadata": {},
     "output_type": "execute_result"
    },
    {
     "data": {
      "image/png": "[encoded data removed]",
      "text/plain": [
       "<Figure size 640x480 with 1 Axes>"
      ]
     },
     "metadata": {},
     "output_type": "display_data"
    }
   ],
   "source": [
    "#accuracy\n",
    "plt.plot(history.history['accuracy'])\n",
    "plt.plot(history.history['val_accuracy'])\n",
    "plt.title('model accuracy')\n",
    "plt.ylabel('accuracy')\n",
    "plt.xlabel('epoch')\n",
    "plt.legend(['train', 'test'], loc='upper left')\n"
   ]
  }
 ],
 "metadata": {
  "kernelspec": {
   "display_name": "Python 3",
   "language": "python",
   "name": "python3"
  },
  "language_info": {
   "codemirror_mode": {
    "name": "ipython",
    "version": 3
   },
   "file_extension": ".py",
   "mimetype": "text/x-python",
   "name": "python",
   "nbconvert_exporter": "python",
   "pygments_lexer": "ipython3",
   "version": "3.10.13"
  }
 },
 "nbformat": 4,
 "nbformat_minor": 2
}
