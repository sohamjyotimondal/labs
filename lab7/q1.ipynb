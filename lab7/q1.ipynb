{
 "cells": [
  {
   "cell_type": "code",
   "execution_count": 1,
   "metadata": {},
   "outputs": [
    {
     "name": "stdout",
     "output_type": "stream",
     "text": [
      "           air_store_id       visit_datetime     reserve_datetime  \\\n",
      "0  air_877f79706adbfb06  2016-01-01 19:00:00  2016-01-01 16:00:00   \n",
      "1  air_db4b38ebe7a7ceff  2016-01-01 19:00:00  2016-01-01 19:00:00   \n",
      "2  air_db4b38ebe7a7ceff  2016-01-01 19:00:00  2016-01-01 19:00:00   \n",
      "3  air_877f79706adbfb06  2016-01-01 20:00:00  2016-01-01 16:00:00   \n",
      "4  air_db80363d35f10926  2016-01-01 20:00:00  2016-01-01 01:00:00   \n",
      "\n",
      "   reserve_visitors  \n",
      "0                 1  \n",
      "1                 3  \n",
      "2                 6  \n",
      "3                 2  \n",
      "4                 5  \n",
      "           hpg_store_id       visit_datetime     reserve_datetime  \\\n",
      "0  hpg_c63f6f42e088e50f  2016-01-01 11:00:00  2016-01-01 09:00:00   \n",
      "1  hpg_dac72789163a3f47  2016-01-01 13:00:00  2016-01-01 06:00:00   \n",
      "2  hpg_c8e24dcf51ca1eb5  2016-01-01 16:00:00  2016-01-01 14:00:00   \n",
      "3  hpg_24bb207e5fd49d4a  2016-01-01 17:00:00  2016-01-01 11:00:00   \n",
      "4  hpg_25291c542ebb3bc2  2016-01-01 17:00:00  2016-01-01 03:00:00   \n",
      "\n",
      "   reserve_visitors  \n",
      "0                 1  \n",
      "1                 3  \n",
      "2                 2  \n",
      "3                 5  \n",
      "4                13  \n",
      "           air_store_id  air_genre_name                 air_area_name  \\\n",
      "0  air_0f0cdeee6c9bf3d7  Italian/French  Hyōgo-ken Kōbe-shi Kumoidōri   \n",
      "1  air_7cc17a324ae5c7dc  Italian/French  Hyōgo-ken Kōbe-shi Kumoidōri   \n",
      "2  air_fee8dcf4d619598e  Italian/French  Hyōgo-ken Kōbe-shi Kumoidōri   \n",
      "3  air_a17f0778617c76e2  Italian/French  Hyōgo-ken Kōbe-shi Kumoidōri   \n",
      "4  air_83db5aff8f50478e  Italian/French  Tōkyō-to Minato-ku Shibakōen   \n",
      "\n",
      "    latitude   longitude  \n",
      "0  34.695124  135.197853  \n",
      "1  34.695124  135.197853  \n",
      "2  34.695124  135.197853  \n",
      "3  34.695124  135.197853  \n",
      "4  35.658068  139.751599  \n",
      "           hpg_store_id  hpg_genre_name                  hpg_area_name  \\\n",
      "0  hpg_6622b62385aec8bf  Japanese style  Tōkyō-to Setagaya-ku Taishidō   \n",
      "1  hpg_e9e068dd49c5fa00  Japanese style  Tōkyō-to Setagaya-ku Taishidō   \n",
      "2  hpg_2976f7acb4b3a3bc  Japanese style  Tōkyō-to Setagaya-ku Taishidō   \n",
      "3  hpg_e51a522e098f024c  Japanese style  Tōkyō-to Setagaya-ku Taishidō   \n",
      "4  hpg_e3d0e1519894f275  Japanese style  Tōkyō-to Setagaya-ku Taishidō   \n",
      "\n",
      "    latitude   longitude  \n",
      "0  35.643675  139.668221  \n",
      "1  35.643675  139.668221  \n",
      "2  35.643675  139.668221  \n",
      "3  35.643675  139.668221  \n",
      "4  35.643675  139.668221  \n",
      "           air_store_id          hpg_store_id\n",
      "0  air_63b13c56b7201bd9  hpg_4bc649e72e2a239a\n",
      "1  air_a24bf50c3e90d583  hpg_c34b496d0305a809\n",
      "2  air_c7f78b4f3cba33ff  hpg_cd8ae0d9bbd58ff9\n",
      "3  air_947eb2cae4f3e8f2  hpg_de24ea49dc25d6b8\n",
      "4  air_965b2e0cf4119003  hpg_653238a84804d8e7\n",
      "           air_store_id  visit_date  visitors\n",
      "0  air_ba937bf13d40fb24  2016-01-13        25\n",
      "1  air_ba937bf13d40fb24  2016-01-14        32\n",
      "2  air_ba937bf13d40fb24  2016-01-15        29\n",
      "3  air_ba937bf13d40fb24  2016-01-16        22\n",
      "4  air_ba937bf13d40fb24  2016-01-18         6\n",
      "                                id  visitors\n",
      "0  air_00a91d42b08b08d9_2017-04-23         0\n",
      "1  air_00a91d42b08b08d9_2017-04-24         0\n",
      "2  air_00a91d42b08b08d9_2017-04-25         0\n",
      "3  air_00a91d42b08b08d9_2017-04-26         0\n",
      "4  air_00a91d42b08b08d9_2017-04-27         0\n",
      "  calendar_date day_of_week  holiday_flg\n",
      "0    2016-01-01      Friday            1\n",
      "1    2016-01-02    Saturday            1\n",
      "2    2016-01-03      Sunday            1\n",
      "3    2016-01-04      Monday            0\n",
      "4    2016-01-05     Tuesday            0\n",
      "air_store_id        0\n",
      "visit_datetime      0\n",
      "reserve_datetime    0\n",
      "reserve_visitors    0\n",
      "dtype: int64\n",
      "hpg_store_id        0\n",
      "visit_datetime      0\n",
      "reserve_datetime    0\n",
      "reserve_visitors    0\n",
      "dtype: int64\n",
      "air_store_id    0\n",
      "visit_date      0\n",
      "visitors        0\n",
      "dtype: int64\n"
     ]
    }
   ],
   "source": [
    "import pandas as pd\n",
    "import numpy as np\n",
    "from sklearn.preprocessing import LabelEncoder, MinMaxScaler\n",
    "from datetime import datetime\n",
    "\n",
    "# Load CSV files\n",
    "air_reserve = pd.read_csv('air_reserve.csv')\n",
    "hpg_reserve = pd.read_csv('hpg_reserve.csv')\n",
    "air_store_info = pd.read_csv('air_store_info.csv')\n",
    "hpg_store_info = pd.read_csv('hpg_store_info.csv')\n",
    "store_id_relation = pd.read_csv('store_id_relation.csv')\n",
    "air_visit_data = pd.read_csv('air_visit_data.csv')\n",
    "sample_submission = pd.read_csv('sample_submission.csv')\n",
    "date_info = pd.read_csv('date_info.csv')\n",
    "\n",
    "# Display the first few rows of each dataset\n",
    "print(air_reserve.head())\n",
    "print(hpg_reserve.head())\n",
    "print(air_store_info.head())\n",
    "print(hpg_store_info.head())\n",
    "print(store_id_relation.head())\n",
    "print(air_visit_data.head())\n",
    "print(sample_submission.head())\n",
    "print(date_info.head())\n",
    "\n",
    "# Convert datetime columns to datetime format\n",
    "air_reserve['visit_datetime'] = pd.to_datetime(air_reserve['visit_datetime'])\n",
    "air_reserve['reserve_datetime'] = pd.to_datetime(air_reserve['reserve_datetime'])\n",
    "\n",
    "hpg_reserve['visit_datetime'] = pd.to_datetime(hpg_reserve['visit_datetime'])\n",
    "hpg_reserve['reserve_datetime'] = pd.to_datetime(hpg_reserve['reserve_datetime'])\n",
    "\n",
    "air_visit_data['visit_date'] = pd.to_datetime(air_visit_data['visit_date'])\n",
    "\n",
    "# Check for missing values\n",
    "print(air_reserve.isnull().sum())\n",
    "print(hpg_reserve.isnull().sum())\n",
    "print(air_visit_data.isnull().sum())\n"
   ]
  },
  {
   "cell_type": "code",
   "execution_count": 2,
   "metadata": {},
   "outputs": [
    {
     "name": "stdout",
     "output_type": "stream",
     "text": [
      "           air_store_id visit_date  visitors  air_genre_name  \\\n",
      "0  air_ba937bf13d40fb24 2016-01-13        25        0.307692   \n",
      "1  air_ba937bf13d40fb24 2016-01-14        32        0.307692   \n",
      "2  air_ba937bf13d40fb24 2016-01-15        29        0.307692   \n",
      "3  air_ba937bf13d40fb24 2016-01-16        22        0.307692   \n",
      "4  air_ba937bf13d40fb24 2016-01-18         6        0.307692   \n",
      "\n",
      "                  air_area_name   latitude   longitude visit_datetime  \\\n",
      "0  Tōkyō-to Minato-ku Shibakōen  35.658068  139.751599            NaT   \n",
      "1  Tōkyō-to Minato-ku Shibakōen  35.658068  139.751599            NaT   \n",
      "2  Tōkyō-to Minato-ku Shibakōen  35.658068  139.751599            NaT   \n",
      "3  Tōkyō-to Minato-ku Shibakōen  35.658068  139.751599            NaT   \n",
      "4  Tōkyō-to Minato-ku Shibakōen  35.658068  139.751599            NaT   \n",
      "\n",
      "   reserve_visitors  day_of_week  holiday_flg  \n",
      "0               0.0            2            0  \n",
      "1               0.0            3            0  \n",
      "2               0.0            4            0  \n",
      "3               0.0            5            0  \n",
      "4               0.0            0            0  \n"
     ]
    }
   ],
   "source": [
    "# Merge air visit data with air store info\n",
    "air_data = pd.merge(air_visit_data, air_store_info, on='air_store_id', how='left')\n",
    "\n",
    "# Merge air reserve data with air store info to add reservation info\n",
    "air_reserve_merged = pd.merge(air_reserve, air_store_info, on='air_store_id', how='left')\n",
    "\n",
    "# Group reservation data by date to get total visitors by date\n",
    "air_reserve_grouped = air_reserve_merged.groupby('visit_datetime')['reserve_visitors'].sum().reset_index()\n",
    "air_reserve_grouped['visit_datetime'] = pd.to_datetime(air_reserve_grouped['visit_datetime'])\n",
    "\n",
    "# Merge reservation data with visit data (using the date)\n",
    "merged_data = pd.merge(air_data, air_reserve_grouped, left_on='visit_date', right_on='visit_datetime', how='left')\n",
    "\n",
    "# Fill missing values with 0 (no reservations)\n",
    "merged_data['reserve_visitors'].fillna(0, inplace=True)\n",
    "\n",
    "# Add weekday information\n",
    "merged_data['day_of_week'] = merged_data['visit_date'].dt.dayofweek\n",
    "\n",
    "# Add holiday flag\n",
    "date_info['calendar_date'] = pd.to_datetime(date_info['calendar_date'], errors='coerce')\n",
    "\n",
    "merged_data = pd.merge(merged_data, date_info[['calendar_date', 'holiday_flg']], \n",
    "                       left_on='visit_date', right_on='calendar_date', how='left')\n",
    "\n",
    "# Convert categorical variables to numerical\n",
    "le_genre = LabelEncoder()\n",
    "merged_data['air_genre_name'] = le_genre.fit_transform(merged_data['air_genre_name'])\n",
    "\n",
    "# Scaling the numerical columns\n",
    "scaler = MinMaxScaler()\n",
    "merged_data[['reserve_visitors', 'air_genre_name']] = scaler.fit_transform(merged_data[['reserve_visitors', 'air_genre_name']])\n",
    "\n",
    "# Drop unnecessary columns\n",
    "merged_data.drop(['calendar_date'], axis=1, inplace=True)\n",
    "\n",
    "print(merged_data.head())\n"
   ]
  },
  {
   "cell_type": "code",
   "execution_count": 3,
   "metadata": {},
   "outputs": [
    {
     "name": "stdout",
     "output_type": "stream",
     "text": [
      "air_store_id        0\n",
      "visit_date          0\n",
      "visitors            0\n",
      "air_genre_name      0\n",
      "air_area_name       0\n",
      "latitude            0\n",
      "longitude           0\n",
      "reserve_visitors    0\n",
      "day_of_week         0\n",
      "holiday_flg         0\n",
      "dtype: int64\n"
     ]
    }
   ],
   "source": [
    "\n",
    "#drop visit_datetime\n",
    "merged_data.drop(['visit_datetime'], axis=1, inplace=True)\n",
    "print(merged_data.isnull().sum())"
   ]
  },
  {
   "cell_type": "code",
   "execution_count": 4,
   "metadata": {},
   "outputs": [
    {
     "name": "stdout",
     "output_type": "stream",
     "text": [
      "air_store_id                object\n",
      "visit_date          datetime64[ns]\n",
      "visitors                     int64\n",
      "air_genre_name             float64\n",
      "air_area_name               object\n",
      "latitude                   float64\n",
      "longitude                  float64\n",
      "reserve_visitors           float64\n",
      "day_of_week                  int64\n",
      "holiday_flg                  int64\n",
      "dtype: object\n",
      "Non-numeric columns: Index(['air_store_id', 'air_area_name'], dtype='object')\n"
     ]
    }
   ],
   "source": [
    "# Check the types of the columns\n",
    "print(merged_data.dtypes)\n",
    "\n",
    "# Identify which columns are not numeric\n",
    "non_numeric_columns = merged_data.select_dtypes(include=['object']).columns\n",
    "print(\"Non-numeric columns:\", non_numeric_columns)\n"
   ]
  },
  {
   "cell_type": "code",
   "execution_count": 5,
   "metadata": {},
   "outputs": [],
   "source": [
    "#label encode air_store_id and air_area_name\n",
    "le = LabelEncoder()\n",
    "merged_data['air_store_id'] = le.fit_transform(merged_data['air_store_id'])\n",
    "merged_data['air_area_name'] = le.fit_transform(merged_data['air_area_name'])\n",
    "\n"
   ]
  },
  {
   "cell_type": "code",
   "execution_count": 6,
   "metadata": {},
   "outputs": [
    {
     "name": "stdout",
     "output_type": "stream",
     "text": [
      "(201686, 1, 5) (201686,) (50422, 1, 5) (50422,)\n"
     ]
    }
   ],
   "source": [
    "from sklearn.model_selection import train_test_split\n",
    "from tensorflow.keras.preprocessing.sequence import TimeseriesGenerator\n",
    "\n",
    "# Prepare features and target variable (visitors)\n",
    "X = merged_data[['air_store_id', 'air_genre_name', 'reserve_visitors', 'day_of_week', 'holiday_flg']].values\n",
    "y = merged_data['visitors'].values\n",
    "\n",
    "# Reshape the data to a sequence format\n",
    "X_reshaped = X.reshape((X.shape[0], 1, X.shape[1]))  # Reshape to 3D: [samples, time steps, features]\n",
    "\n",
    "# Train test split\n",
    "X_train, X_test, y_train, y_test = train_test_split(X_reshaped, y, test_size=0.2, random_state=42)\n",
    "\n",
    "print(X_train.shape, y_train.shape, X_test.shape, y_test.shape)\n"
   ]
  },
  {
   "cell_type": "code",
   "execution_count": 10,
   "metadata": {},
   "outputs": [],
   "source": [
    "X_train = np.array(X_train)\n",
    "y_train = np.array(y_train)"
   ]
  },
  {
   "cell_type": "code",
   "execution_count": 11,
   "metadata": {},
   "outputs": [
    {
     "name": "stdout",
     "output_type": "stream",
     "text": [
      "Model: \"model_1\"\n",
      "_________________________________________________________________\n",
      " Layer (type)                Output Shape              Param #   \n",
      "=================================================================\n",
      " input_2 (InputLayer)        [(None, 1, 5)]            0         \n",
      "                                                                 \n",
      " lstm_2 (LSTM)               (None, 64)                17920     \n",
      "                                                                 \n",
      " repeat_vector_1 (RepeatVect  (None, 1, 64)            0         \n",
      " or)                                                             \n",
      "                                                                 \n",
      " lstm_3 (LSTM)               (None, 1, 64)             33024     \n",
      "                                                                 \n",
      " time_distributed_1 (TimeDis  (None, 1, 1)             65        \n",
      " tributed)                                                       \n",
      "                                                                 \n",
      "=================================================================\n",
      "Total params: 51,009\n",
      "Trainable params: 51,009\n",
      "Non-trainable params: 0\n",
      "_________________________________________________________________\n",
      "Epoch 1/20\n",
      "5673/5673 [==============================] - 57s 9ms/step - loss: 284.5429 - val_loss: 273.1330\n",
      "Epoch 2/20\n",
      "5673/5673 [==============================] - 58s 10ms/step - loss: 279.2164 - val_loss: 273.1278\n",
      "Epoch 3/20\n",
      "5673/5673 [==============================] - 47s 8ms/step - loss: 279.1986 - val_loss: 273.1694\n",
      "Epoch 4/20\n",
      "5673/5673 [==============================] - 44s 8ms/step - loss: 279.2322 - val_loss: 273.0875\n",
      "Epoch 5/20\n",
      "5673/5673 [==============================] - 46s 8ms/step - loss: 279.2213 - val_loss: 273.0768\n",
      "Epoch 6/20\n",
      "5673/5673 [==============================] - 45s 8ms/step - loss: 279.2021 - val_loss: 273.0847\n",
      "Epoch 7/20\n",
      "5673/5673 [==============================] - 45s 8ms/step - loss: 279.2313 - val_loss: 273.4398\n",
      "Epoch 8/20\n",
      "5673/5673 [==============================] - 45s 8ms/step - loss: 279.2330 - val_loss: 273.0702\n",
      "Epoch 9/20\n",
      "5673/5673 [==============================] - 45s 8ms/step - loss: 279.2172 - val_loss: 273.0782\n",
      "Epoch 10/20\n",
      "5673/5673 [==============================] - 45s 8ms/step - loss: 279.1959 - val_loss: 273.4960\n",
      "Epoch 11/20\n",
      "5673/5673 [==============================] - 45s 8ms/step - loss: 279.2155 - val_loss: 273.5960\n",
      "Epoch 12/20\n",
      "5673/5673 [==============================] - 45s 8ms/step - loss: 279.2261 - val_loss: 273.0678\n",
      "Epoch 13/20\n",
      "5673/5673 [==============================] - 45s 8ms/step - loss: 279.2018 - val_loss: 273.0698\n",
      "Epoch 14/20\n",
      "5673/5673 [==============================] - 45s 8ms/step - loss: 279.2025 - val_loss: 273.0748\n",
      "Epoch 15/20\n",
      "5673/5673 [==============================] - 45s 8ms/step - loss: 279.2238 - val_loss: 273.1802\n",
      "Epoch 16/20\n",
      "5673/5673 [==============================] - 46s 8ms/step - loss: 279.2380 - val_loss: 273.1726\n",
      "Epoch 17/20\n",
      "5673/5673 [==============================] - 45s 8ms/step - loss: 279.2163 - val_loss: 273.1404\n",
      "Epoch 18/20\n",
      "5673/5673 [==============================] - 45s 8ms/step - loss: 279.1958 - val_loss: 273.2409\n",
      "Epoch 19/20\n",
      "5673/5673 [==============================] - 45s 8ms/step - loss: 279.2476 - val_loss: 273.0690\n",
      "Epoch 20/20\n",
      "5673/5673 [==============================] - 45s 8ms/step - loss: 279.2259 - val_loss: 273.0846\n"
     ]
    }
   ],
   "source": [
    "import tensorflow as tf\n",
    "from tensorflow.keras.models import Model\n",
    "from tensorflow.keras.layers import LSTM, Dense, RepeatVector, TimeDistributed, Input\n",
    "\n",
    "# Define the model\n",
    "\n",
    "input_shape = X_train.shape[1:]\n",
    "\n",
    "inputs = Input(shape=input_shape)\n",
    "encoded = LSTM(64, activation='tanh', return_sequences=False)(inputs)  # Use 'tanh' for LSTM\n",
    "decoded = RepeatVector(1)(encoded)  # Repeat the context for the next time step\n",
    "decoded = LSTM(64, activation='tanh', return_sequences=True)(decoded)  # Decoder\n",
    "decoded = TimeDistributed(Dense(1))(decoded)  # Output layer: 1 for the number of visitors\n",
    "\n",
    "model = Model(inputs, decoded)\n",
    "model.compile(optimizer='adam', loss='mse')\n",
    "\n",
    "# Model summary\n",
    "model.summary()\n",
    "\n",
    "# Train the model\n",
    "history = model.fit(X_train, y_train, epochs=20, batch_size=32, validation_split=0.1)\n"
   ]
  },
  {
   "cell_type": "code",
   "execution_count": 12,
   "metadata": {},
   "outputs": [
    {
     "name": "stdout",
     "output_type": "stream",
     "text": [
      "1576/1576 [==============================] - 8s 4ms/step\n"
     ]
    }
   ],
   "source": [
    "# Predict using the trained model\n",
    "y_pred = model.predict(X_test)"
   ]
  },
  {
   "cell_type": "code",
   "execution_count": 13,
   "metadata": {},
   "outputs": [
    {
     "data": {
      "text/plain": [
       "<matplotlib.legend.Legend at 0x25a4d4cccd0>"
      ]
     },
     "execution_count": 13,
     "metadata": {},
     "output_type": "execute_result"
    },
    {
     "data": {
      "image/png": "[encoded data removed]",
      "text/plain": [
       "<Figure size 640x480 with 1 Axes>"
      ]
     },
     "metadata": {},
     "output_type": "display_data"
    }
   ],
   "source": [
    "#plot\n",
    "import matplotlib.pyplot as plt\n",
    "\n",
    "plt.plot(history.history['loss'], label='train')\n",
    "plt.plot(history.history['val_loss'], label='validation')\n",
    "plt.legend()\n"
   ]
  }
 ],
 "metadata": {
  "kernelspec": {
   "display_name": "py310",
   "language": "python",
   "name": "python3"
  },
  "language_info": {
   "codemirror_mode": {
    "name": "ipython",
    "version": 3
   },
   "file_extension": ".py",
   "mimetype": "text/x-python",
   "name": "python",
   "nbconvert_exporter": "python",
   "pygments_lexer": "ipython3",
   "version": "3.10.13"
  }
 },
 "nbformat": 4,
 "nbformat_minor": 2
}
